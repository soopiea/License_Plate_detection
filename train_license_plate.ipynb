{
 "cells": [
  {
   "cell_type": "code",
   "execution_count": 7,
   "metadata": {},
   "outputs": [],
   "source": [
    "import os\n",
    "from ultralytics import YOLO\n",
    "from PIL import Image"
   ]
  },
  {
   "cell_type": "code",
   "execution_count": 13,
   "metadata": {},
   "outputs": [],
   "source": [
    "# Get the path of the data.yml file\n",
    "project_path = os.getcwd()\n",
    "data_yml_path = os.path.join(project_path,'dataset','data.yaml')\n",
    "\n",
    "#Loading the model\n",
    "model = YOLO('yolov8n.pt')\n",
    "\n",
    "#Training the model with custom dataset\n",
    "results = model.train(data=data_yml_path, epochs=200, imgsz=640)"
   ]
  },
  {
   "cell_type": "code",
   "execution_count": null,
   "metadata": {},
   "outputs": [],
   "source": [
    "#Loading the model\n",
    "model = YOLO('yolov8n.pt')\n",
    "\n",
    "#Training the model with custom dataset\n",
    "results = model.train(data=data_yml_path, epochs=200, imgsz=640)"
   ]
  },
  {
   "cell_type": "code",
   "execution_count": null,
   "metadata": {},
   "outputs": [],
   "source": [
    "#Testing showing the results of the model\n",
    "model_path = os.path.join(project_path,'dataset/runs/detect/train3/weights/best.pt')\n",
    "model = YOLO(model_path)\n",
    "results = model([f'{project_path}/dataset/test/images/Cars39_png.rf.fe511779e2f9eb9d412827d8d91f722b.jpg', \n",
    "                 f'{project_path}/dataset/test/images/Cars219_png.rf.b59a6d384d12a2c69a39f71e37a3318d.jpg'])\n",
    "/home/sopi/projects/license_plate_detection/dataset/test/images/Cars219_png.rf.b59a6d384d12a2c69a39f71e37a3318d.jpgnumpy array\n",
    "  im_rgb = Image.fromarray(im_bgr[..., ::-1])  # RGB-order PIL image\n",
    "  r.show()\n",
    "  r.save(filename=f'results/results{i}.jpg')"
   ]
  },
  {
   "cell_type": "code",
   "execution_count": null,
   "metadata": {},
   "outputs": [],
   "source": []
  }
 ],
 "metadata": {
  "kernelspec": {
   "display_name": "venv_comp_vision",
   "language": "python",
   "name": "python3"
  },
  "language_info": {
   "codemirror_mode": {
    "name": "ipython",
    "version": 3
   },
   "file_extension": ".py",
   "mimetype": "text/x-python",
   "name": "python",
   "nbconvert_exporter": "python",
   "pygments_lexer": "ipython3",
   "version": "3.10.12"
  }
 },
 "nbformat": 4,
 "nbformat_minor": 2
}
